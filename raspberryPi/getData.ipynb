{
 "cells": [
  {
   "cell_type": "code",
   "execution_count": 20,
   "metadata": {},
   "outputs": [
    {
     "ename": "RuntimeError",
     "evalue": "A PWM object already exists for this GPIO channel",
     "output_type": "error",
     "traceback": [
      "\u001b[0;31m---------------------------------------------------------------------------\u001b[0m",
      "\u001b[0;31mRuntimeError\u001b[0m                              Traceback (most recent call last)",
      "Input \u001b[0;32mIn [20]\u001b[0m, in \u001b[0;36m<cell line: 8>\u001b[0;34m()\u001b[0m\n\u001b[1;32m      6\u001b[0m i2c \u001b[38;5;241m=\u001b[39m board\u001b[38;5;241m.\u001b[39mI2C()\n\u001b[1;32m      7\u001b[0m sensor \u001b[38;5;241m=\u001b[39m adafruit_bno055\u001b[38;5;241m.\u001b[39mBNO055_I2C(i2c)\n\u001b[0;32m----> 8\u001b[0m robot \u001b[38;5;241m=\u001b[39m \u001b[43mMotor\u001b[49m\u001b[43m(\u001b[49m\u001b[38;5;241;43m23\u001b[39;49m\u001b[43m,\u001b[49m\u001b[38;5;241;43m24\u001b[39;49m\u001b[43m,\u001b[49m\u001b[38;5;241;43m25\u001b[39;49m\u001b[43m,\u001b[49m\u001b[38;5;241;43m17\u001b[39;49m\u001b[43m,\u001b[49m\u001b[38;5;241;43m22\u001b[39;49m\u001b[43m,\u001b[49m\u001b[38;5;241;43m27\u001b[39;49m\u001b[43m)\u001b[49m\n\u001b[1;32m      9\u001b[0m robot\u001b[38;5;241m.\u001b[39mstop()\n",
      "File \u001b[0;32m~/Desktop/IMU_Mobrob/MotorModule.py:28\u001b[0m, in \u001b[0;36mMotor.__init__\u001b[0;34m(self, Ena, In1a, In2a, Enb, In1b, In2b)\u001b[0m\n\u001b[1;32m     26\u001b[0m GPIO\u001b[38;5;241m.\u001b[39msetup(\u001b[38;5;28mself\u001b[39m\u001b[38;5;241m.\u001b[39mIn1b, GPIO\u001b[38;5;241m.\u001b[39mOUT)\n\u001b[1;32m     27\u001b[0m GPIO\u001b[38;5;241m.\u001b[39msetup(\u001b[38;5;28mself\u001b[39m\u001b[38;5;241m.\u001b[39mIn2b, GPIO\u001b[38;5;241m.\u001b[39mOUT)\n\u001b[0;32m---> 28\u001b[0m \u001b[38;5;28mself\u001b[39m\u001b[38;5;241m.\u001b[39mpwmA \u001b[38;5;241m=\u001b[39m \u001b[43mGPIO\u001b[49m\u001b[38;5;241;43m.\u001b[39;49m\u001b[43mPWM\u001b[49m\u001b[43m(\u001b[49m\u001b[38;5;28;43mself\u001b[39;49m\u001b[38;5;241;43m.\u001b[39;49m\u001b[43mEna\u001b[49m\u001b[43m,\u001b[49m\u001b[38;5;241;43m100\u001b[39;49m\u001b[43m)\u001b[49m \u001b[38;5;66;03m#pulse-width modulation for speed, 100 hz\u001b[39;00m\n\u001b[1;32m     29\u001b[0m \u001b[38;5;28mself\u001b[39m\u001b[38;5;241m.\u001b[39mpwmA\u001b[38;5;241m.\u001b[39mstart(\u001b[38;5;241m0\u001b[39m)   \u001b[38;5;66;03m#start at 0 hz\u001b[39;00m\n\u001b[1;32m     30\u001b[0m \u001b[38;5;28mself\u001b[39m\u001b[38;5;241m.\u001b[39mpwmB \u001b[38;5;241m=\u001b[39m GPIO\u001b[38;5;241m.\u001b[39mPWM(\u001b[38;5;28mself\u001b[39m\u001b[38;5;241m.\u001b[39mEnb,\u001b[38;5;241m100\u001b[39m) \u001b[38;5;66;03m#pulse-width modulation for speed, 100 hz\u001b[39;00m\n",
      "\u001b[0;31mRuntimeError\u001b[0m: A PWM object already exists for this GPIO channel"
     ]
    }
   ],
   "source": [
    "import board\n",
    "import adafruit_bno055\n",
    "import time\n",
    "from MotorModule import Motor\n",
    "\n",
    "i2c = board.I2C()\n",
    "sensor = adafruit_bno055.BNO055_I2C(i2c)\n",
    "robot = Motor(23,24,25,17,22,27)\n",
    "robot.stop()\n"
   ]
  },
  {
   "cell_type": "code",
   "execution_count": 21,
   "metadata": {},
   "outputs": [
    {
     "ename": "KeyboardInterrupt",
     "evalue": "",
     "output_type": "error",
     "traceback": [
      "\u001b[0;31m---------------------------------------------------------------------------\u001b[0m",
      "\u001b[0;31mKeyboardInterrupt\u001b[0m                         Traceback (most recent call last)",
      "Input \u001b[0;32mIn [21]\u001b[0m, in \u001b[0;36m<cell line: 18>\u001b[0;34m()\u001b[0m\n\u001b[1;32m     18\u001b[0m \u001b[38;5;28;01mtry\u001b[39;00m:\n\u001b[1;32m     19\u001b[0m     robot\u001b[38;5;241m.\u001b[39mmoveForward(\u001b[38;5;241m0.4\u001b[39m,\u001b[38;5;241m-\u001b[39m\u001b[38;5;241m0.05\u001b[39m,\u001b[38;5;241m0.005\u001b[39m)\n\u001b[0;32m---> 20\u001b[0m     acc_data\u001b[38;5;241m.\u001b[39mappend(\u001b[43msensor\u001b[49m\u001b[38;5;241;43m.\u001b[39;49m\u001b[43macceleration\u001b[49m)\n\u001b[1;32m     21\u001b[0m     t\u001b[38;5;241m.\u001b[39mappend(time\u001b[38;5;241m.\u001b[39mtime() \u001b[38;5;241m-\u001b[39m t_init)\n\u001b[1;32m     22\u001b[0m \u001b[38;5;28;01mexcept\u001b[39;00m \u001b[38;5;167;01mKeyboardInterrupt\u001b[39;00m:\n",
      "File \u001b[0;32m/usr/local/lib/python3.9/dist-packages/adafruit_bno055.py:404\u001b[0m, in \u001b[0;36mBNO055.acceleration\u001b[0;34m(self)\u001b[0m\n\u001b[1;32m    400\u001b[0m \u001b[38;5;124;03m\"\"\"Gives the raw accelerometer readings, in m/s.\u001b[39;00m\n\u001b[1;32m    401\u001b[0m \u001b[38;5;124;03mReturns an empty tuple of length 3 when this property has been disabled by the current mode.\u001b[39;00m\n\u001b[1;32m    402\u001b[0m \u001b[38;5;124;03m\"\"\"\u001b[39;00m\n\u001b[1;32m    403\u001b[0m \u001b[38;5;28;01mif\u001b[39;00m \u001b[38;5;28mself\u001b[39m\u001b[38;5;241m.\u001b[39mmode \u001b[38;5;129;01mnot\u001b[39;00m \u001b[38;5;129;01min\u001b[39;00m [\u001b[38;5;241m0x00\u001b[39m, \u001b[38;5;241m0x02\u001b[39m, \u001b[38;5;241m0x03\u001b[39m, \u001b[38;5;241m0x06\u001b[39m]:\n\u001b[0;32m--> 404\u001b[0m     \u001b[38;5;28;01mreturn\u001b[39;00m \u001b[38;5;28;43mself\u001b[39;49m\u001b[38;5;241;43m.\u001b[39;49m\u001b[43m_acceleration\u001b[49m\n\u001b[1;32m    405\u001b[0m \u001b[38;5;28;01mreturn\u001b[39;00m (\u001b[38;5;28;01mNone\u001b[39;00m, \u001b[38;5;28;01mNone\u001b[39;00m, \u001b[38;5;28;01mNone\u001b[39;00m)\n",
      "File \u001b[0;32m/usr/local/lib/python3.9/dist-packages/adafruit_bno055.py:147\u001b[0m, in \u001b[0;36m_ScaledReadOnlyStruct.__get__\u001b[0;34m(self, obj, objtype)\u001b[0m\n\u001b[1;32m    146\u001b[0m \u001b[38;5;28;01mdef\u001b[39;00m \u001b[38;5;21m__get__\u001b[39m(\u001b[38;5;28mself\u001b[39m, obj, objtype\u001b[38;5;241m=\u001b[39m\u001b[38;5;28;01mNone\u001b[39;00m):\n\u001b[0;32m--> 147\u001b[0m     result \u001b[38;5;241m=\u001b[39m \u001b[38;5;28;43msuper\u001b[39;49m\u001b[43m(\u001b[49m\u001b[43m)\u001b[49m\u001b[38;5;241;43m.\u001b[39;49m\u001b[38;5;21;43m__get__\u001b[39;49m\u001b[43m(\u001b[49m\u001b[43mobj\u001b[49m\u001b[43m,\u001b[49m\u001b[43m \u001b[49m\u001b[43mobjtype\u001b[49m\u001b[43m)\u001b[49m\n\u001b[1;32m    148\u001b[0m     \u001b[38;5;28;01mreturn\u001b[39;00m \u001b[38;5;28mtuple\u001b[39m(\u001b[38;5;28mself\u001b[39m\u001b[38;5;241m.\u001b[39mscale \u001b[38;5;241m*\u001b[39m v \u001b[38;5;28;01mfor\u001b[39;00m v \u001b[38;5;129;01min\u001b[39;00m result)\n",
      "File \u001b[0;32m/usr/local/lib/python3.9/dist-packages/adafruit_register/i2c_struct.py:42\u001b[0m, in \u001b[0;36mStruct.__get__\u001b[0;34m(self, obj, objtype)\u001b[0m\n\u001b[1;32m     40\u001b[0m \u001b[38;5;28;01mdef\u001b[39;00m \u001b[38;5;21m__get__\u001b[39m(\u001b[38;5;28mself\u001b[39m, obj, objtype\u001b[38;5;241m=\u001b[39m\u001b[38;5;28;01mNone\u001b[39;00m):\n\u001b[1;32m     41\u001b[0m     \u001b[38;5;28;01mwith\u001b[39;00m obj\u001b[38;5;241m.\u001b[39mi2c_device \u001b[38;5;28;01mas\u001b[39;00m i2c:\n\u001b[0;32m---> 42\u001b[0m         \u001b[43mi2c\u001b[49m\u001b[38;5;241;43m.\u001b[39;49m\u001b[43mwrite_then_readinto\u001b[49m\u001b[43m(\u001b[49m\u001b[38;5;28;43mself\u001b[39;49m\u001b[38;5;241;43m.\u001b[39;49m\u001b[43mbuffer\u001b[49m\u001b[43m,\u001b[49m\u001b[43m \u001b[49m\u001b[38;5;28;43mself\u001b[39;49m\u001b[38;5;241;43m.\u001b[39;49m\u001b[43mbuffer\u001b[49m\u001b[43m,\u001b[49m\u001b[43m \u001b[49m\u001b[43mout_end\u001b[49m\u001b[38;5;241;43m=\u001b[39;49m\u001b[38;5;241;43m1\u001b[39;49m\u001b[43m,\u001b[49m\u001b[43m \u001b[49m\u001b[43min_start\u001b[49m\u001b[38;5;241;43m=\u001b[39;49m\u001b[38;5;241;43m1\u001b[39;49m\u001b[43m)\u001b[49m\n\u001b[1;32m     43\u001b[0m     \u001b[38;5;28;01mreturn\u001b[39;00m struct\u001b[38;5;241m.\u001b[39munpack_from(\u001b[38;5;28mself\u001b[39m\u001b[38;5;241m.\u001b[39mformat, \u001b[38;5;28mmemoryview\u001b[39m(\u001b[38;5;28mself\u001b[39m\u001b[38;5;241m.\u001b[39mbuffer)[\u001b[38;5;241m1\u001b[39m:])\n",
      "File \u001b[0;32m/usr/local/lib/python3.9/dist-packages/adafruit_bus_device/i2c_device.py:124\u001b[0m, in \u001b[0;36mI2CDevice.write_then_readinto\u001b[0;34m(self, out_buffer, in_buffer, out_start, out_end, in_start, in_end)\u001b[0m\n\u001b[1;32m    121\u001b[0m \u001b[38;5;28;01mif\u001b[39;00m in_end \u001b[38;5;129;01mis\u001b[39;00m \u001b[38;5;28;01mNone\u001b[39;00m:\n\u001b[1;32m    122\u001b[0m     in_end \u001b[38;5;241m=\u001b[39m \u001b[38;5;28mlen\u001b[39m(in_buffer)\n\u001b[0;32m--> 124\u001b[0m \u001b[38;5;28;43mself\u001b[39;49m\u001b[38;5;241;43m.\u001b[39;49m\u001b[43mi2c\u001b[49m\u001b[38;5;241;43m.\u001b[39;49m\u001b[43mwriteto_then_readfrom\u001b[49m\u001b[43m(\u001b[49m\n\u001b[1;32m    125\u001b[0m \u001b[43m    \u001b[49m\u001b[38;5;28;43mself\u001b[39;49m\u001b[38;5;241;43m.\u001b[39;49m\u001b[43mdevice_address\u001b[49m\u001b[43m,\u001b[49m\n\u001b[1;32m    126\u001b[0m \u001b[43m    \u001b[49m\u001b[43mout_buffer\u001b[49m\u001b[43m,\u001b[49m\n\u001b[1;32m    127\u001b[0m \u001b[43m    \u001b[49m\u001b[43min_buffer\u001b[49m\u001b[43m,\u001b[49m\n\u001b[1;32m    128\u001b[0m \u001b[43m    \u001b[49m\u001b[43mout_start\u001b[49m\u001b[38;5;241;43m=\u001b[39;49m\u001b[43mout_start\u001b[49m\u001b[43m,\u001b[49m\n\u001b[1;32m    129\u001b[0m \u001b[43m    \u001b[49m\u001b[43mout_end\u001b[49m\u001b[38;5;241;43m=\u001b[39;49m\u001b[43mout_end\u001b[49m\u001b[43m,\u001b[49m\n\u001b[1;32m    130\u001b[0m \u001b[43m    \u001b[49m\u001b[43min_start\u001b[49m\u001b[38;5;241;43m=\u001b[39;49m\u001b[43min_start\u001b[49m\u001b[43m,\u001b[49m\n\u001b[1;32m    131\u001b[0m \u001b[43m    \u001b[49m\u001b[43min_end\u001b[49m\u001b[38;5;241;43m=\u001b[39;49m\u001b[43min_end\u001b[49m\u001b[43m,\u001b[49m\n\u001b[1;32m    132\u001b[0m \u001b[43m\u001b[49m\u001b[43m)\u001b[49m\n",
      "File \u001b[0;32m/usr/local/lib/python3.9/dist-packages/busio.py:183\u001b[0m, in \u001b[0;36mI2C.writeto_then_readfrom\u001b[0;34m(self, address, buffer_out, buffer_in, out_start, out_end, in_start, in_end, stop)\u001b[0m\n\u001b[1;32m    168\u001b[0m \u001b[38;5;28;01mdef\u001b[39;00m \u001b[38;5;21mwriteto_then_readfrom\u001b[39m(\n\u001b[1;32m    169\u001b[0m     \u001b[38;5;28mself\u001b[39m,\n\u001b[1;32m    170\u001b[0m     address,\n\u001b[0;32m   (...)\u001b[0m\n\u001b[1;32m    178\u001b[0m     stop\u001b[38;5;241m=\u001b[39m\u001b[38;5;28;01mFalse\u001b[39;00m,\n\u001b[1;32m    179\u001b[0m ):\n\u001b[1;32m    180\u001b[0m     \u001b[38;5;124;03m\"\"\" \"Write to a device at specified address from a buffer then read\u001b[39;00m\n\u001b[1;32m    181\u001b[0m \u001b[38;5;124;03m    from a device at specified address into a buffer\u001b[39;00m\n\u001b[1;32m    182\u001b[0m \u001b[38;5;124;03m    \"\"\"\u001b[39;00m\n\u001b[0;32m--> 183\u001b[0m     \u001b[38;5;28;01mreturn\u001b[39;00m \u001b[38;5;28;43mself\u001b[39;49m\u001b[38;5;241;43m.\u001b[39;49m\u001b[43m_i2c\u001b[49m\u001b[38;5;241;43m.\u001b[39;49m\u001b[43mwriteto_then_readfrom\u001b[49m\u001b[43m(\u001b[49m\n\u001b[1;32m    184\u001b[0m \u001b[43m        \u001b[49m\u001b[43maddress\u001b[49m\u001b[43m,\u001b[49m\n\u001b[1;32m    185\u001b[0m \u001b[43m        \u001b[49m\u001b[43mbuffer_out\u001b[49m\u001b[43m,\u001b[49m\n\u001b[1;32m    186\u001b[0m \u001b[43m        \u001b[49m\u001b[43mbuffer_in\u001b[49m\u001b[43m,\u001b[49m\n\u001b[1;32m    187\u001b[0m \u001b[43m        \u001b[49m\u001b[43mout_start\u001b[49m\u001b[38;5;241;43m=\u001b[39;49m\u001b[43mout_start\u001b[49m\u001b[43m,\u001b[49m\n\u001b[1;32m    188\u001b[0m \u001b[43m        \u001b[49m\u001b[43mout_end\u001b[49m\u001b[38;5;241;43m=\u001b[39;49m\u001b[43mout_end\u001b[49m\u001b[43m,\u001b[49m\n\u001b[1;32m    189\u001b[0m \u001b[43m        \u001b[49m\u001b[43min_start\u001b[49m\u001b[38;5;241;43m=\u001b[39;49m\u001b[43min_start\u001b[49m\u001b[43m,\u001b[49m\n\u001b[1;32m    190\u001b[0m \u001b[43m        \u001b[49m\u001b[43min_end\u001b[49m\u001b[38;5;241;43m=\u001b[39;49m\u001b[43min_end\u001b[49m\u001b[43m,\u001b[49m\n\u001b[1;32m    191\u001b[0m \u001b[43m        \u001b[49m\u001b[43mstop\u001b[49m\u001b[38;5;241;43m=\u001b[39;49m\u001b[43mstop\u001b[49m\u001b[43m,\u001b[49m\n\u001b[1;32m    192\u001b[0m \u001b[43m    \u001b[49m\u001b[43m)\u001b[49m\n",
      "File \u001b[0;32m/usr/local/lib/python3.9/dist-packages/adafruit_blinka/microcontroller/generic_linux/i2c.py:87\u001b[0m, in \u001b[0;36mI2C.writeto_then_readfrom\u001b[0;34m(self, address, buffer_out, buffer_in, out_start, out_end, in_start, in_end, stop)\u001b[0m\n\u001b[1;32m     84\u001b[0m     \u001b[38;5;28mself\u001b[39m\u001b[38;5;241m.\u001b[39mreadfrom_into(address, buffer_in, start\u001b[38;5;241m=\u001b[39min_start, end\u001b[38;5;241m=\u001b[39min_end)\n\u001b[1;32m     85\u001b[0m \u001b[38;5;28;01melse\u001b[39;00m:\n\u001b[1;32m     86\u001b[0m     \u001b[38;5;66;03m# To generate without a stop, do in one block transaction\u001b[39;00m\n\u001b[0;32m---> 87\u001b[0m     readin \u001b[38;5;241m=\u001b[39m \u001b[38;5;28;43mself\u001b[39;49m\u001b[38;5;241;43m.\u001b[39;49m\u001b[43m_i2c_bus\u001b[49m\u001b[38;5;241;43m.\u001b[39;49m\u001b[43mread_i2c_block_data\u001b[49m\u001b[43m(\u001b[49m\n\u001b[1;32m     88\u001b[0m \u001b[43m        \u001b[49m\u001b[43maddress\u001b[49m\u001b[43m,\u001b[49m\u001b[43m \u001b[49m\u001b[43mbuffer_out\u001b[49m\u001b[43m[\u001b[49m\u001b[43mout_start\u001b[49m\u001b[43m:\u001b[49m\u001b[43mout_end\u001b[49m\u001b[43m]\u001b[49m\u001b[43m,\u001b[49m\u001b[43m \u001b[49m\u001b[43min_end\u001b[49m\u001b[43m \u001b[49m\u001b[38;5;241;43m-\u001b[39;49m\u001b[43m \u001b[49m\u001b[43min_start\u001b[49m\n\u001b[1;32m     89\u001b[0m \u001b[43m    \u001b[49m\u001b[43m)\u001b[49m\n\u001b[1;32m     90\u001b[0m     \u001b[38;5;28;01mfor\u001b[39;00m i \u001b[38;5;129;01min\u001b[39;00m \u001b[38;5;28mrange\u001b[39m(in_end \u001b[38;5;241m-\u001b[39m in_start):\n\u001b[1;32m     91\u001b[0m         buffer_in[i \u001b[38;5;241m+\u001b[39m in_start] \u001b[38;5;241m=\u001b[39m readin[i]\n",
      "File \u001b[0;32m/usr/local/lib/python3.9/dist-packages/Adafruit_PureIO/smbus.py:262\u001b[0m, in \u001b[0;36mSMBus.read_i2c_block_data\u001b[0;34m(self, addr, cmd, length)\u001b[0m\n\u001b[1;32m    259\u001b[0m result \u001b[38;5;241m=\u001b[39m create_string_buffer(length)\n\u001b[1;32m    261\u001b[0m \u001b[38;5;66;03m# Build ioctl request.\u001b[39;00m\n\u001b[0;32m--> 262\u001b[0m request \u001b[38;5;241m=\u001b[39m \u001b[43mmake_i2c_rdwr_data\u001b[49m\u001b[43m(\u001b[49m\n\u001b[1;32m    263\u001b[0m \u001b[43m    \u001b[49m\u001b[43m[\u001b[49m\n\u001b[1;32m    264\u001b[0m \u001b[43m        \u001b[49m\u001b[43m(\u001b[49m\n\u001b[1;32m    265\u001b[0m \u001b[43m            \u001b[49m\u001b[43maddr\u001b[49m\u001b[43m,\u001b[49m\n\u001b[1;32m    266\u001b[0m \u001b[43m            \u001b[49m\u001b[38;5;241;43m0\u001b[39;49m\u001b[43m,\u001b[49m\n\u001b[1;32m    267\u001b[0m \u001b[43m            \u001b[49m\u001b[38;5;28;43mlen\u001b[39;49m\u001b[43m(\u001b[49m\u001b[43mcmd\u001b[49m\u001b[43m)\u001b[49m\u001b[43m,\u001b[49m\n\u001b[1;32m    268\u001b[0m \u001b[43m            \u001b[49m\u001b[43mcast\u001b[49m\u001b[43m(\u001b[49m\u001b[43mcmdstring\u001b[49m\u001b[43m,\u001b[49m\u001b[43m \u001b[49m\u001b[43mPOINTER\u001b[49m\u001b[43m(\u001b[49m\u001b[43mc_uint8\u001b[49m\u001b[43m)\u001b[49m\u001b[43m)\u001b[49m\u001b[43m,\u001b[49m\n\u001b[1;32m    269\u001b[0m \u001b[43m        \u001b[49m\u001b[43m)\u001b[49m\u001b[43m,\u001b[49m\u001b[43m  \u001b[49m\u001b[38;5;66;43;03m# Write cmd register.\u001b[39;49;00m\n\u001b[1;32m    270\u001b[0m \u001b[43m        \u001b[49m\u001b[43m(\u001b[49m\u001b[43maddr\u001b[49m\u001b[43m,\u001b[49m\u001b[43m \u001b[49m\u001b[43mI2C_M_RD\u001b[49m\u001b[43m,\u001b[49m\u001b[43m \u001b[49m\u001b[43mlength\u001b[49m\u001b[43m,\u001b[49m\u001b[43m \u001b[49m\u001b[43mcast\u001b[49m\u001b[43m(\u001b[49m\u001b[43mresult\u001b[49m\u001b[43m,\u001b[49m\u001b[43m \u001b[49m\u001b[43mPOINTER\u001b[49m\u001b[43m(\u001b[49m\u001b[43mc_uint8\u001b[49m\u001b[43m)\u001b[49m\u001b[43m)\u001b[49m\u001b[43m)\u001b[49m\u001b[43m,\u001b[49m\u001b[43m  \u001b[49m\u001b[38;5;66;43;03m# Read data.\u001b[39;49;00m\n\u001b[1;32m    271\u001b[0m \u001b[43m    \u001b[49m\u001b[43m]\u001b[49m\n\u001b[1;32m    272\u001b[0m \u001b[43m\u001b[49m\u001b[43m)\u001b[49m\n\u001b[1;32m    274\u001b[0m \u001b[38;5;66;03m# Make ioctl call and return result data.\u001b[39;00m\n\u001b[1;32m    275\u001b[0m ioctl(\u001b[38;5;28mself\u001b[39m\u001b[38;5;241m.\u001b[39m_device\u001b[38;5;241m.\u001b[39mfileno(), I2C_RDWR, request)\n",
      "File \u001b[0;32m/usr/local/lib/python3.9/dist-packages/Adafruit_PureIO/smbus.py:103\u001b[0m, in \u001b[0;36mmake_i2c_rdwr_data\u001b[0;34m(messages)\u001b[0m\n\u001b[1;32m    101\u001b[0m     msg_data[i]\u001b[38;5;241m.\u001b[39mflags \u001b[38;5;241m=\u001b[39m message[\u001b[38;5;241m1\u001b[39m]\n\u001b[1;32m    102\u001b[0m     msg_data[i]\u001b[38;5;241m.\u001b[39mlen \u001b[38;5;241m=\u001b[39m message[\u001b[38;5;241m2\u001b[39m]\n\u001b[0;32m--> 103\u001b[0m     msg_data[i]\u001b[38;5;241m.\u001b[39mbuf \u001b[38;5;241m=\u001b[39m message[\u001b[38;5;241m3\u001b[39m]\n\u001b[1;32m    104\u001b[0m \u001b[38;5;66;03m# Now build the data structure.\u001b[39;00m\n\u001b[1;32m    105\u001b[0m data \u001b[38;5;241m=\u001b[39m i2c_rdwr_ioctl_data()\n",
      "\u001b[0;31mKeyboardInterrupt\u001b[0m: "
     ]
    }
   ],
   "source": [
    "sensor_not_calibrated = True\n",
    "cal_counter = 0\n",
    "# while sensor_not_calibrated:\n",
    "#     print(sensor.calibration_status)\n",
    "#     if(sensor.calibration_status[2] == 3):\n",
    "#         cal_counter +=1\n",
    "#         if cal_counter > 10:\n",
    "#             print(sensor.acceleration)\n",
    "#             sensor_not_calibrated = False\n",
    "# for i in range(1000):\n",
    "#     print(sensor.acceleration)\n",
    "#     time.sleep(0.1)\n",
    "\n",
    "acc_data = []\n",
    "t = []\n",
    "t_init = time.time()\n",
    "while True:\n",
    "    try:\n",
    "        robot.moveForward(0.4,-0.05,0.005)\n",
    "        acc_data.append(sensor.acceleration)\n",
    "        t.append(time.time() - t_init)\n",
    "    except KeyboardInterrupt:\n",
    "        robot.stop()\n",
    "        raise"
   ]
  },
  {
   "cell_type": "code",
   "execution_count": null,
   "metadata": {},
   "outputs": [],
   "source": []
  },
  {
   "cell_type": "code",
   "execution_count": null,
   "metadata": {},
   "outputs": [],
   "source": [
    "import pandas as pd\n",
    "data_dict = {'time':time, 'accX':acc_data[0], 'accY':acc_data[1], 'accZ':acc_data[2]}\n",
    "df = pd.DataFrame(data_dict)\n",
    "df.to_csv('data1.csv')"
   ]
  }
 ],
 "metadata": {
  "interpreter": {
   "hash": "767d51c1340bd893661ea55ea3124f6de3c7a262a8b4abca0554b478b1e2ff90"
  },
  "kernelspec": {
   "display_name": "Python 3.9.2 32-bit",
   "language": "python",
   "name": "python3"
  },
  "language_info": {
   "codemirror_mode": {
    "name": "ipython",
    "version": 3
   },
   "file_extension": ".py",
   "mimetype": "text/x-python",
   "name": "python",
   "nbconvert_exporter": "python",
   "pygments_lexer": "ipython3",
   "version": "3.9.2"
  },
  "orig_nbformat": 4
 },
 "nbformat": 4,
 "nbformat_minor": 2
}
